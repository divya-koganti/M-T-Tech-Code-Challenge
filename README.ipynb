{
 "cells": [
  {
   "cell_type": "markdown",
   "metadata": {},
   "source": [
    "<h1 style=\"text-align: center;\">🍍Pineapples & Tomatoes 🍅</h1> \n",
    "\n",
    "**<p style=\"text-align: center;\">Divya Koganti</p>**\n",
    "\n",
    "## Introduction & The Question\n",
    "\n",
    "We will be discussing two very controversial questions which are \"Does pineapple belong on pizza?\" and \"Since tomatoes are technically fruits, does that make ketchup jam?\"\n",
    "\n",
    "Both pineapples and tomatoes are technically fruit, yet most people would not classify tomatoes as a fruit when used in recipes. Many argue against the controversial question \"does pineapple belong on pizza?\" by saying that fruit does not belong on pizza. Others in turn will argue that since tomatoes are technically fruit and tomatoes are required on pizza. Jam by definition is made by fruit so jam could technically be made with tomatoes. \n",
    "\n",
    "**The Question**: If someone agrees that ketchup is jam does that relate to if someone agrees that pineapple belongs on pizza?\n",
    "\n",
    "The null hypothesis is there is no relation between whether someone agrees that ketchup is jam and whether if someone agrees that pineapple belongs on pizza.\n",
    "The alternative hypothesis is there is a relation between whether someone agrees that ketchup is jam and whether if someone agrees that pineapple belongs on pizza.\n",
    "\n",
    "My hypothesis is considering ketchup as jam is related agreeing pineapple belongs on pizza because people who are more open to consider tomatoes as fruits when used in recipes such as jam will make it easier to accept a fruit on pizza. \n",
    "\n",
    "We will use the data from the M&T intern survey\n",
    "\n",
    "\n",
    "## Data Cleaning\n",
    "\n",
    "We will start out by importing the required packages. Then reading in the data from the csv file. We will only need to look at two columns of the data so we remove the other columns. We also rename the column names to tomato and pineapple to make easy to refer to"
   ]
  },
  {
   "cell_type": "code",
   "execution_count": 36,
   "metadata": {},
   "outputs": [],
   "source": [
    "import pandas as pd\n",
    "import scipy.stats as stats\n",
    "import numpy as np\n",
    "import matplotlib.pyplot as plt\n",
    "import seaborn as sns"
   ]
  },
  {
   "cell_type": "code",
   "execution_count": 37,
   "metadata": {},
   "outputs": [
    {
     "data": {
      "text/html": [
       "<div>\n",
       "<style scoped>\n",
       "    .dataframe tbody tr th:only-of-type {\n",
       "        vertical-align: middle;\n",
       "    }\n",
       "\n",
       "    .dataframe tbody tr th {\n",
       "        vertical-align: top;\n",
       "    }\n",
       "\n",
       "    .dataframe thead th {\n",
       "        text-align: right;\n",
       "    }\n",
       "</style>\n",
       "<table border=\"1\" class=\"dataframe\">\n",
       "  <thead>\n",
       "    <tr style=\"text-align: right;\">\n",
       "      <th></th>\n",
       "      <th>tomato</th>\n",
       "      <th>pineapple</th>\n",
       "    </tr>\n",
       "  </thead>\n",
       "  <tbody>\n",
       "    <tr>\n",
       "      <th>0</th>\n",
       "      <td>0</td>\n",
       "      <td>0</td>\n",
       "    </tr>\n",
       "    <tr>\n",
       "      <th>1</th>\n",
       "      <td>0</td>\n",
       "      <td>0</td>\n",
       "    </tr>\n",
       "    <tr>\n",
       "      <th>2</th>\n",
       "      <td>0</td>\n",
       "      <td>1</td>\n",
       "    </tr>\n",
       "    <tr>\n",
       "      <th>3</th>\n",
       "      <td>0</td>\n",
       "      <td>1</td>\n",
       "    </tr>\n",
       "    <tr>\n",
       "      <th>4</th>\n",
       "      <td>1</td>\n",
       "      <td>0</td>\n",
       "    </tr>\n",
       "    <tr>\n",
       "      <th>...</th>\n",
       "      <td>...</td>\n",
       "      <td>...</td>\n",
       "    </tr>\n",
       "    <tr>\n",
       "      <th>103</th>\n",
       "      <td>0</td>\n",
       "      <td>0</td>\n",
       "    </tr>\n",
       "    <tr>\n",
       "      <th>104</th>\n",
       "      <td>0</td>\n",
       "      <td>0</td>\n",
       "    </tr>\n",
       "    <tr>\n",
       "      <th>105</th>\n",
       "      <td>0</td>\n",
       "      <td>1</td>\n",
       "    </tr>\n",
       "    <tr>\n",
       "      <th>106</th>\n",
       "      <td>0</td>\n",
       "      <td>0</td>\n",
       "    </tr>\n",
       "    <tr>\n",
       "      <th>107</th>\n",
       "      <td>0</td>\n",
       "      <td>0</td>\n",
       "    </tr>\n",
       "  </tbody>\n",
       "</table>\n",
       "<p>108 rows × 2 columns</p>\n",
       "</div>"
      ],
      "text/plain": [
       "     tomato  pineapple\n",
       "0         0          0\n",
       "1         0          0\n",
       "2         0          1\n",
       "3         0          1\n",
       "4         1          0\n",
       "..      ...        ...\n",
       "103       0          0\n",
       "104       0          0\n",
       "105       0          1\n",
       "106       0          0\n",
       "107       0          0\n",
       "\n",
       "[108 rows x 2 columns]"
      ]
     },
     "execution_count": 37,
     "metadata": {},
     "output_type": "execute_result"
    }
   ],
   "source": [
    "df = pd.read_csv('data.csv')\n",
    "df = df.iloc[:,12:14]\n",
    "df.rename(columns= {'Since tomatoes are technically fruits, does that make ketchup jam?': 'tomato', 'Does pineapple belong on pizza?': 'pineapple'},inplace=True)\n",
    "df\n",
    "\n"
   ]
  },
  {
   "cell_type": "markdown",
   "metadata": {},
   "source": [
    "## Exploratory Analysis & Data Visualization \n",
    "We will be using the Chi-Square Test of Independence which shows if two categorical variables are related in this case whether you said yes or no with the two questions at hand. We need to first create a contingency table which is a frequency table of two categorical variables."
   ]
  },
  {
   "cell_type": "code",
   "execution_count": 38,
   "metadata": {},
   "outputs": [
    {
     "data": {
      "text/html": [
       "<div>\n",
       "<style scoped>\n",
       "    .dataframe tbody tr th:only-of-type {\n",
       "        vertical-align: middle;\n",
       "    }\n",
       "\n",
       "    .dataframe tbody tr th {\n",
       "        vertical-align: top;\n",
       "    }\n",
       "\n",
       "    .dataframe thead th {\n",
       "        text-align: right;\n",
       "    }\n",
       "</style>\n",
       "<table border=\"1\" class=\"dataframe\">\n",
       "  <thead>\n",
       "    <tr style=\"text-align: right;\">\n",
       "      <th>tomato</th>\n",
       "      <th>0</th>\n",
       "      <th>1</th>\n",
       "    </tr>\n",
       "    <tr>\n",
       "      <th>pineapple</th>\n",
       "      <th></th>\n",
       "      <th></th>\n",
       "    </tr>\n",
       "  </thead>\n",
       "  <tbody>\n",
       "    <tr>\n",
       "      <th>0</th>\n",
       "      <td>39</td>\n",
       "      <td>16</td>\n",
       "    </tr>\n",
       "    <tr>\n",
       "      <th>1</th>\n",
       "      <td>39</td>\n",
       "      <td>14</td>\n",
       "    </tr>\n",
       "  </tbody>\n",
       "</table>\n",
       "</div>"
      ],
      "text/plain": [
       "tomato      0   1\n",
       "pineapple        \n",
       "0          39  16\n",
       "1          39  14"
      ]
     },
     "execution_count": 38,
     "metadata": {},
     "output_type": "execute_result"
    }
   ],
   "source": [
    "observed = pd.crosstab(df['pineapple'],df['tomato'])\n",
    "observed\n",
    "\n"
   ]
  },
  {
   "cell_type": "code",
   "execution_count": 39,
   "metadata": {},
   "outputs": [
    {
     "data": {
      "image/png": "[encoded data removed]",
      "text/plain": [
       "<Figure size 432x288 with 1 Axes>"
      ]
     },
     "metadata": {
      "needs_background": "light"
     },
     "output_type": "display_data"
    }
   ],
   "source": [
    "barplot = observed.plot(kind=\"bar\", stacked=True, rot=0,color=['#f7f17b','#f7b37b'])\n"
   ]
  },
  {
   "cell_type": "markdown",
   "metadata": {},
   "source": [
    "Visualized the contigency table"
   ]
  },
  {
   "cell_type": "markdown",
   "metadata": {},
   "source": [
    "We now can run Chi-Square Test of Independence"
   ]
  },
  {
   "cell_type": "code",
   "execution_count": 40,
   "metadata": {},
   "outputs": [
    {
     "data": {
      "text/plain": [
       "(0.009119936667106414,\n",
       " 0.9239189932360474,\n",
       " 1,\n",
       " array([[39.72222222, 15.27777778],\n",
       "        [38.27777778, 14.72222222]]))"
      ]
     },
     "execution_count": 40,
     "metadata": {},
     "output_type": "execute_result"
    }
   ],
   "source": [
    "stats.chi2_contingency(observed)\n"
   ]
  },
  {
   "cell_type": "markdown",
   "metadata": {},
   "source": [
    "The second value is the p-value and the p-value is 0.92 which is greater than the typical alpha value 0.05 which means we fail to reject the null hypothesis. That means there is no relation between the two variables. "
   ]
  },
  {
   "cell_type": "markdown",
   "metadata": {},
   "source": [
    "## Conclusions\n",
    "Many despise pineapple on pizza because many feel fruit does not belong on pizza and in turn I thought if someone believes tomato is classified as a fruit in recipes like jam, they would be okay with pineapple on pizza. With our statistical finding this turns out to be wrong. This might the case since there many reasons why someone may think pineapple does not belong on pizza like the sweet and savory combo.\n",
    "\n",
    "P.S. Pineapple does belong on pizza and ketchup is a jelly not jam"
   ]
  },
  {
   "cell_type": "markdown",
   "metadata": {},
   "source": [
    "## Submission\n",
    "1. Who am I? I am Divya Koganti, a rising senior at University of Maryland where I am studying computer science. I am a tech intern at Wilmington\n",
    "2. I have an explicit question: If someone agrees that ketchup is jam does that relate to if someone agrees that pineapple belongs on pizza?\n",
    "In which I used code, statistics and visuals to come to the conclusion that the two responses to the questions are not related\n",
    "3. I went above and beyond by going to into depth the data science behind the answer"
   ]
  }
 ],
 "metadata": {
  "kernelspec": {
   "display_name": "Python 3.8.10 64-bit",
   "language": "python",
   "name": "python3"
  },
  "language_info": {
   "codemirror_mode": {
    "name": "ipython",
    "version": 3
   },
   "file_extension": ".py",
   "mimetype": "text/x-python",
   "name": "python",
   "nbconvert_exporter": "python",
   "pygments_lexer": "ipython3",
   "version": "3.8.10"
  },
  "orig_nbformat": 4,
  "vscode": {
   "interpreter": {
    "hash": "916dbcbb3f70747c44a77c7bcd40155683ae19c65e1c03b4aa3499c5328201f1"
   }
  }
 },
 "nbformat": 4,
 "nbformat_minor": 2
}
